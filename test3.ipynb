{
 "cells": [
  {
   "cell_type": "code",
   "execution_count": 97,
   "metadata": {},
   "outputs": [
    {
     "name": "stdout",
     "output_type": "stream",
     "text": [
      "b'\\xc2o\\xca\\xb2C\\xd6K\\x9c'\n",
      "0xc26fcab243d64b9c\n",
      "b'\\x83\\xd0\\xf9o\\xdd\\xbfti'\n",
      "0x83d0f96fddbf7469\n",
      "b'\\xc2o\\xca\\xb2C\\xd6K\\x9c'\n",
      "0xc26fcab243d64b9c\n"
     ]
    }
   ],
   "source": [
    "#これでできそうやーーー\n",
    "#https://dev.classmethod.jp/articles/python-crypto-libraries/\n",
    "\n",
    "from Crypto.Cipher import DES\n",
    "from Crypto.Random import get_random_bytes\n",
    "#key  =(0x11ffffffffffff00).to_bytes(8,byteorder=\"big\",signed=\"True\")\n",
    "key  =get_random_bytes(8)\n",
    "#plain=(0x00ffffffffffffff).to_bytes(8,byteorder=\"big\",signed=\"True\")\n",
    "plain=get_random_bytes(8)\n",
    "\n",
    "\n",
    "print(plain)\n",
    "print(hex(int.from_bytes(plain,byteorder='big')))\n",
    "\n",
    "#暗号器のインスタンス\n",
    "cryptographic=DES.new(key,DES.MODE_ECB)\n",
    "cipher=cryptographic.encrypt(plain)\n",
    "print(cipher)\n",
    "print(hex(int.from_bytes(cipher,byteorder='big')))\n",
    "\n",
    "print(cryptographic.decrypt(cipher))\n",
    "print(hex(int.from_bytes(cryptographic.decrypt(cipher),byteorder='big')))"
   ]
  },
  {
   "cell_type": "code",
   "execution_count": null,
   "metadata": {},
   "outputs": [],
   "source": []
  }
 ],
 "metadata": {
  "kernelspec": {
   "display_name": "Python 3",
   "language": "python",
   "name": "python3"
  },
  "language_info": {
   "codemirror_mode": {
    "name": "ipython",
    "version": 3
   },
   "file_extension": ".py",
   "mimetype": "text/x-python",
   "name": "python",
   "nbconvert_exporter": "python",
   "pygments_lexer": "ipython3",
   "version": "3.6.9"
  }
 },
 "nbformat": 4,
 "nbformat_minor": 4
}
